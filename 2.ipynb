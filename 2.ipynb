{
 "cells": [
  {
   "cell_type": "code",
   "execution_count": 5,
   "metadata": {},
   "outputs": [
    {
     "name": "stdout",
     "output_type": "stream",
     "text": [
      "prime\n"
     ]
    }
   ],
   "source": [
    "a = int(input(\"enter a number:\"))\n",
    "if a == 1 :\n",
    "    print('not prime')\n",
    "    \n",
    "if a %2 == 0 :\n",
    "    print(\"not prime\")\n",
    "    \n",
    "else:\n",
    "    for i in range(3, a , 2):\n",
    "        if a % i == 0 :\n",
    "            print(\"not prime\")\n",
    "            break\n",
    "    else:\n",
    "        print(\"prime\")\n",
    "        "
   ]
  },
  {
   "cell_type": "code",
   "execution_count": 10,
   "metadata": {},
   "outputs": [
    {
     "name": "stdout",
     "output_type": "stream",
     "text": [
      "13 is  prime\n"
     ]
    }
   ],
   "source": [
    "user_number = int(input(\"enter a number:\"))\n",
    "is_prime = False\n",
    "for i in range(2 , user_number ):\n",
    "    if user_number % i == 0:\n",
    "        is_prime = True\n",
    "        break\n",
    "if is_prime == True:\n",
    "    print(f'{user_number} is  not prime')\n",
    "else:\n",
    "    print(f\"{user_number} is  prime\")"
   ]
  },
  {
   "cell_type": "markdown",
   "metadata": {},
   "source": [
    "gol ya poch"
   ]
  },
  {
   "cell_type": "code",
   "execution_count": 15,
   "metadata": {},
   "outputs": [
    {
     "name": "stdout",
     "output_type": "stream",
     "text": [
      "__________\n",
      "2 chances left\n",
      "u r wrong\n",
      "_______________\n",
      "2 chance left\n",
      "u r wrong\n",
      "_______________\n",
      " ai choice is :3\n"
     ]
    }
   ],
   "source": [
    "import random\n",
    "\n",
    "cups = int(input(\"how many cups?\"))\n",
    "chances = int(input(\"how many chances\"))\n",
    "\n",
    "ai_goal = random.randint(1 , cups)\n",
    "print(\"_\"*10)\n",
    "\n",
    "for i in range (chances):\n",
    "    word = \"s\"\n",
    "    if chances - i == 1 :\n",
    "        word = \"\"\n",
    "    print(f\"{chances} chance{word} left\")\n",
    "    user_guess = int(input(f\"Guess[1-{cups}]:\"))\n",
    "\n",
    "    if user_guess == ai_goal :\n",
    "        print(\"ur guess was right\")\n",
    "        break\n",
    "    else:\n",
    "        print(\"u r wrong\")\n",
    "    print(\"_\"*15)\n",
    "\n",
    "if user_guess == ai_goal :\n",
    "    print(\"_\"*15)\n",
    "    print(\"u won\")\n",
    "print(f\" ai choice is :{ai_goal}\")\n",
    "\n"
   ]
  },
  {
   "cell_type": "markdown",
   "metadata": {},
   "source": [
    "ramz va reverse"
   ]
  },
  {
   "cell_type": "code",
   "execution_count": 18,
   "metadata": {},
   "outputs": [
    {
     "name": "stdout",
     "output_type": "stream",
     "text": [
      "104,101,108,108,111\n"
     ]
    }
   ],
   "source": [
    "my_string = input(\"enter whatever u want :\")\n",
    "\n",
    "nums =[]\n",
    "for char in my_string:\n",
    "    nums.append(str(ord(char)))# we can add a constant number to number\n",
    "print(\",\".join(nums))"
   ]
  },
  {
   "cell_type": "code",
   "execution_count": 35,
   "metadata": {},
   "outputs": [
    {
     "name": "stdout",
     "output_type": "stream",
     "text": [
      "['1', '2', '3']\n",
      "a b c \n"
     ]
    }
   ],
   "source": [
    "my_list = [1 ,2 ,3]\n",
    "a = list(map(str, my_list))\n",
    "print(a)\n",
    "str1 = \"\"\n",
    "for i in my_list:\n",
    "    str1 += chr(i+96) + \" \"\n",
    "print(str1)"
   ]
  },
  {
   "cell_type": "code",
   "execution_count": 41,
   "metadata": {},
   "outputs": [
    {
     "name": "stdout",
     "output_type": "stream",
     "text": [
      "['1', '2', '3']\n",
      "a b c \n"
     ]
    }
   ],
   "source": [
    "#suppose that the input is string\n",
    "get_input = \"1,2,3\"\n",
    "a = get_input.split(\",\")\n",
    "print(a)\n",
    "final_string =\"\"\n",
    "for i in a :\n",
    "     final_string += chr(int(i) + 96) + \" \"\n",
    "print(final_string)"
   ]
  }
 ],
 "metadata": {
  "kernelspec": {
   "display_name": "venv",
   "language": "python",
   "name": "python3"
  },
  "language_info": {
   "codemirror_mode": {
    "name": "ipython",
    "version": 3
   },
   "file_extension": ".py",
   "mimetype": "text/x-python",
   "name": "python",
   "nbconvert_exporter": "python",
   "pygments_lexer": "ipython3",
   "version": "3.10.11"
  }
 },
 "nbformat": 4,
 "nbformat_minor": 2
}
